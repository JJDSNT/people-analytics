{
  "nbformat": 4,
  "nbformat_minor": 0,
  "metadata": {
    "colab": {
      "provenance": []
    },
    "kernelspec": {
      "name": "python3",
      "display_name": "Python 3"
    },
    "language_info": {
      "name": "python"
    }
  },
  "cells": [
    {
      "cell_type": "code",
      "execution_count": null,
      "metadata": {
        "id": "XnC-RYvTvcAQ"
      },
      "outputs": [],
      "source": [
        "import pandas as pd\n",
        "\n",
        "# Caminho relativo ao diretório do notebook\n",
        "data_path = '../data/WA_Fn-UseC_-HR-Employee-Attrition.csv'\n",
        "df = pd.read_csv(data_path)"
      ]
    }
  ]
}